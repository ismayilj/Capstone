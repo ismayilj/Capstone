{
 "cells": [
  {
   "cell_type": "markdown",
   "metadata": {},
   "source": [
    "# Selecting the best borough in London for immigrant family\n",
    "__by Ismayil Jabiyev 2019__"
   ]
  },
  {
   "cell_type": "markdown",
   "metadata": {},
   "source": [
    "## Introduction/Business Problem\n",
    "\n",
    "London is the largest city and business capital of the UK and considered to be one of the world's most important global cities that is most investment friendly and most popular for work. This results in a great inflow of different labor force including domestic immigration to the city. According to Oxford University's Migration Observatory report, in 2017 3,354,000 people or 36% of the city's population were foreign born.\n",
    "\n",
    "As a person planning to permanently settle down in London the question is what is the best place to settle down, especially if he is coming with a family and children. One of the most crucial question is what is the best adequate place considering a number of variables as cost of living, crime rate, ecology and situation with education and how London boroughs looks like in terms of attractiveness to a family with kids.\n",
    "\n",
    "## Data retrieval\n",
    "\n",
    "A number of publicly available data sets for London boroughs will be used. This include https://data.london.gov.uk/ datasets of:\n",
    "\n",
    "Crime rate (number of offences)\n",
    "Average rent prices\n",
    "Environmental footprint (measured by carbon emissions)\n",
    "Number of 2-bedroom apartments (the more is better)\n",
    "Number of parks\n",
    "Number of schools\n",
    "Traffic intensity\n",
    "\n",
    "## Methodology\n",
    "\n",
    "The London boroughs are the 32 local authority districts that make up the Greater London county. Each borough will be assigned with a set of normalized parameters as per data above. With the help of Foursquare I will extract additional data as number of parks that will add additional parameters to assess attractiveness for a family.\n",
    "\n",
    "Boroughs will be visualized on the map. A formula will calculate the score of family friendliness basing on the normalized parameters above. No weights will be applied. Basing on the results most family friendly boroughs will be selected and advised."
   ]
  },
  {
   "cell_type": "code",
   "execution_count": 1,
   "metadata": {},
   "outputs": [
    {
     "name": "stdout",
     "output_type": "stream",
     "text": [
      "Collecting package metadata: done\n",
      "Solving environment: done\n",
      "\n",
      "## Package Plan ##\n",
      "\n",
      "  environment location: /home/jupyterlab/conda\n",
      "\n",
      "  added / updated specs:\n",
      "    - folium=0.5.0\n",
      "\n",
      "\n",
      "The following packages will be downloaded:\n",
      "\n",
      "    package                    |            build\n",
      "    ---------------------------|-----------------\n",
      "    ca-certificates-2019.3.9   |       hecc5488_0         146 KB  conda-forge\n",
      "    certifi-2019.3.9           |           py36_0         149 KB  conda-forge\n",
      "    conda-4.6.8                |           py36_0         876 KB  conda-forge\n",
      "    openssl-1.1.1b             |       h14c3975_1         4.0 MB  conda-forge\n",
      "    ------------------------------------------------------------\n",
      "                                           Total:         5.1 MB\n",
      "\n",
      "The following packages will be UPDATED:\n",
      "\n",
      "  ca-certificates                     2018.11.29-ha4d7672_0 --> 2019.3.9-hecc5488_0\n",
      "  certifi                              2018.11.29-py36_1000 --> 2019.3.9-py36_0\n",
      "  conda                                        4.6.4-py36_0 --> 4.6.8-py36_0\n",
      "  openssl                              1.1.1a-h14c3975_1000 --> 1.1.1b-h14c3975_1\n",
      "\n",
      "\n",
      "\n",
      "Downloading and Extracting Packages\n",
      "openssl-1.1.1b       | 4.0 MB    | ##################################### | 100% \n",
      "certifi-2019.3.9     | 149 KB    | ##################################### | 100% \n",
      "conda-4.6.8          | 876 KB    | ##################################### | 100% \n",
      "ca-certificates-2019 | 146 KB    | ##################################### | 100% \n",
      "Preparing transaction: done\n",
      "Verifying transaction: done\n",
      "Executing transaction: done\n"
     ]
    }
   ],
   "source": [
    "!conda install -c conda-forge folium=0.5.0 --yes"
   ]
  },
  {
   "cell_type": "code",
   "execution_count": 2,
   "metadata": {},
   "outputs": [
    {
     "name": "stdout",
     "output_type": "stream",
     "text": [
      "done\n"
     ]
    }
   ],
   "source": [
    "import numpy as np\n",
    "import pandas as pd\n",
    "from geopy.geocoders import Nominatim\n",
    "import matplotlib.pyplot as plt\n",
    "import folium\n",
    "import os\n",
    "import requests\n",
    "from bs4 import BeautifulSoup\n",
    "from urllib.request import urlopen\n",
    "import requests\n",
    "import json\n",
    "%matplotlib inline\n",
    "print('done')"
   ]
  },
  {
   "cell_type": "code",
   "execution_count": null,
   "metadata": {},
   "outputs": [],
   "source": []
  },
  {
   "cell_type": "code",
   "execution_count": null,
   "metadata": {},
   "outputs": [],
   "source": []
  },
  {
   "cell_type": "code",
   "execution_count": null,
   "metadata": {},
   "outputs": [],
   "source": []
  },
  {
   "cell_type": "markdown",
   "metadata": {},
   "source": [
    "After the important packages have been imported, lets run a beautiful soup, parse the Wikipedia article into dataframe, and make data wrangling to make an easy table with clear names of London boroughs, basic widipedia data and coordinates."
   ]
  },
  {
   "cell_type": "code",
   "execution_count": 3,
   "metadata": {},
   "outputs": [
    {
     "data": {
      "text/html": [
       "<div>\n",
       "<style scoped>\n",
       "    .dataframe tbody tr th:only-of-type {\n",
       "        vertical-align: middle;\n",
       "    }\n",
       "\n",
       "    .dataframe tbody tr th {\n",
       "        vertical-align: top;\n",
       "    }\n",
       "\n",
       "    .dataframe thead th {\n",
       "        text-align: right;\n",
       "    }\n",
       "</style>\n",
       "<table border=\"1\" class=\"dataframe\">\n",
       "  <thead>\n",
       "    <tr style=\"text-align: right;\">\n",
       "      <th></th>\n",
       "      <th>Borough</th>\n",
       "      <th>Headquarters</th>\n",
       "      <th>Area</th>\n",
       "      <th>Population</th>\n",
       "      <th>Latitude</th>\n",
       "      <th>Longitude</th>\n",
       "    </tr>\n",
       "  </thead>\n",
       "  <tbody>\n",
       "    <tr>\n",
       "      <th>0</th>\n",
       "      <td>Barking and Dagenham</td>\n",
       "      <td>Town Hall, 1 Town Square</td>\n",
       "      <td>13.93</td>\n",
       "      <td>194352.0</td>\n",
       "      <td>51.5607</td>\n",
       "      <td>0.1557</td>\n",
       "    </tr>\n",
       "    <tr>\n",
       "      <th>1</th>\n",
       "      <td>Barnet</td>\n",
       "      <td>North London Business Park, Oakleigh Road South</td>\n",
       "      <td>33.49</td>\n",
       "      <td>369088.0</td>\n",
       "      <td>51.6252</td>\n",
       "      <td>-0.1517</td>\n",
       "    </tr>\n",
       "    <tr>\n",
       "      <th>2</th>\n",
       "      <td>Bexley</td>\n",
       "      <td>Civic Offices, 2 Watling Street</td>\n",
       "      <td>23.38</td>\n",
       "      <td>236687.0</td>\n",
       "      <td>51.4549</td>\n",
       "      <td>0.1505</td>\n",
       "    </tr>\n",
       "    <tr>\n",
       "      <th>3</th>\n",
       "      <td>Brent</td>\n",
       "      <td>Brent Civic Centre, Engineers Way</td>\n",
       "      <td>16.70</td>\n",
       "      <td>317264.0</td>\n",
       "      <td>51.5588</td>\n",
       "      <td>-0.2817</td>\n",
       "    </tr>\n",
       "    <tr>\n",
       "      <th>4</th>\n",
       "      <td>Bromley</td>\n",
       "      <td>Civic Centre, Stockwell Close</td>\n",
       "      <td>57.97</td>\n",
       "      <td>317899.0</td>\n",
       "      <td>51.4039</td>\n",
       "      <td>0.0198</td>\n",
       "    </tr>\n",
       "  </tbody>\n",
       "</table>\n",
       "</div>"
      ],
      "text/plain": [
       "                Borough                                     Headquarters  \\\n",
       "0  Barking and Dagenham                         Town Hall, 1 Town Square   \n",
       "1                Barnet  North London Business Park, Oakleigh Road South   \n",
       "2                Bexley                  Civic Offices, 2 Watling Street   \n",
       "3                 Brent                Brent Civic Centre, Engineers Way   \n",
       "4               Bromley                    Civic Centre, Stockwell Close   \n",
       "\n",
       "    Area  Population  Latitude  Longitude  \n",
       "0  13.93    194352.0   51.5607     0.1557  \n",
       "1  33.49    369088.0   51.6252    -0.1517  \n",
       "2  23.38    236687.0   51.4549     0.1505  \n",
       "3  16.70    317264.0   51.5588    -0.2817  \n",
       "4  57.97    317899.0   51.4039     0.0198  "
      ]
     },
     "execution_count": 3,
     "metadata": {},
     "output_type": "execute_result"
    }
   ],
   "source": [
    "link = 'https://en.wikipedia.org/wiki/List_of_London_boroughs'\n",
    "page = urlopen(link)\n",
    "soup = BeautifulSoup(page, 'html.parser')\n",
    "Table = soup.find('table', {\"class\":\"wikitable sortable\"})\n",
    "List = Table.find_all('td')\n",
    "# next step would be to strip the <td> tags and create a list of clear London borough names and data.\n",
    "inputs=[]\n",
    "for td_tag in List:\n",
    "    inputs.append(td_tag.text)\n",
    "inputs = list(map(lambda x:x.strip(),inputs))\n",
    "London = pd.DataFrame(np.array(inputs).reshape(32,10), \n",
    "                      columns = ['Borough', '2', '3', '4', '5','Headquarters','Area','Population','Coordinates','10'])\n",
    "# we will drop unneseccary columns\n",
    "London.drop(columns=['2','3','4','5','10'], inplace=True)\n",
    "London2 = London.Coordinates.str.split(\"/\", expand=True)\n",
    "London2.drop(London2.columns[0:2],axis=1,inplace=True)\n",
    "London2.columns = ['Coordinates']\n",
    "London3 = London2.Coordinates.str.split(\" \", expand=True)\n",
    "London3.drop(London2.columns[3:4],axis=1,inplace=True)\n",
    "Latitude = London3[1].str.strip(';\\ufeff')\n",
    "Longitude = London3[2].str.strip(';\\ufeff')\n",
    "# Creating new columns in existing London dataframe and coverting the coordinates into floats\n",
    "London['Latitude'] = Latitude\n",
    "London['Longitude'] = Longitude\n",
    "London['Latitude'] = London.Latitude.astype(float)\n",
    "London['Longitude'] = London.Longitude.astype(float)\n",
    "# Converting the Population numbers to float as well\n",
    "London['Population'] = London['Population'].str.replace(',','')\n",
    "London['Population'] = London.Population.astype(float)\n",
    "# Adjusting some borough names and removing unnessary notations and dropping not needed coordinates\n",
    "London.iloc[0,0] = 'Barking and Dagenham'\n",
    "London.iloc[9,0] = 'Greenwich'\n",
    "London.iloc[11,0] = 'Hammersmith and Fulham'\n",
    "London.drop(columns=['Coordinates'], inplace=True)\n",
    "London.head()"
   ]
  },
  {
   "cell_type": "markdown",
   "metadata": {},
   "source": [
    "Next step is to utilize the Foursquare API to extract number of parks"
   ]
  },
  {
   "cell_type": "code",
   "execution_count": 4,
   "metadata": {},
   "outputs": [
    {
     "name": "stdout",
     "output_type": "stream",
     "text": [
      "Your credentails:\n",
      "CLIENT_ID: W5ECZEABWIWO1JBGQZNDSDEA4AY4GHEXJ4QPMSNPVCLES5YG\n",
      "CLIENT_SECRET:REAQNTOZIKMAJW5I3DZ3O45IQSNYXV4ISSMYLM0VSNS3UDQ3\n"
     ]
    }
   ],
   "source": [
    "import requests\n",
    "CLIENT_ID = 'W5ECZEABWIWO1JBGQZNDSDEA4AY4GHEXJ4QPMSNPVCLES5YG' # your Foursquare ID\n",
    "CLIENT_SECRET = 'REAQNTOZIKMAJW5I3DZ3O45IQSNYXV4ISSMYLM0VSNS3UDQ3' # your Foursquare Secret\n",
    "VERSION = '20180605' # Foursquare API version\n",
    "\n",
    "print('Your credentails:')\n",
    "print('CLIENT_ID: ' + CLIENT_ID)\n",
    "print('CLIENT_SECRET:' + CLIENT_SECRET)"
   ]
  },
  {
   "cell_type": "code",
   "execution_count": 5,
   "metadata": {},
   "outputs": [],
   "source": [
    "def NumberofVenues(latitude, longitude, category):\n",
    "    radius = 1000\n",
    "    LIMIT = 100\n",
    "    url = 'https://api.foursquare.com/v2/venues/search?&client_id={}&client_secret={}&v={}&ll={},{}&radius={}&limit={}&categoryId={}'.format(\n",
    "            CLIENT_ID, \n",
    "            CLIENT_SECRET, \n",
    "            VERSION, \n",
    "            latitude, \n",
    "            longitude, \n",
    "            radius, \n",
    "            LIMIT,\n",
    "            category)\n",
    "            \n",
    "    # make the GET request\n",
    "    response = requests.get(url).json()['response']['venues']\n",
    "        \n",
    "        # return only relevant information for each nearby venue\n",
    "\n",
    "    return(len(response))"
   ]
  },
  {
   "cell_type": "code",
   "execution_count": 7,
   "metadata": {},
   "outputs": [
    {
     "data": {
      "text/html": [
       "<div>\n",
       "<style scoped>\n",
       "    .dataframe tbody tr th:only-of-type {\n",
       "        vertical-align: middle;\n",
       "    }\n",
       "\n",
       "    .dataframe tbody tr th {\n",
       "        vertical-align: top;\n",
       "    }\n",
       "\n",
       "    .dataframe thead th {\n",
       "        text-align: right;\n",
       "    }\n",
       "</style>\n",
       "<table border=\"1\" class=\"dataframe\">\n",
       "  <thead>\n",
       "    <tr style=\"text-align: right;\">\n",
       "      <th></th>\n",
       "      <th>Borough</th>\n",
       "      <th>Headquarters</th>\n",
       "      <th>Area</th>\n",
       "      <th>Population</th>\n",
       "      <th>Latitude</th>\n",
       "      <th>Longitude</th>\n",
       "      <th>Parks</th>\n",
       "    </tr>\n",
       "  </thead>\n",
       "  <tbody>\n",
       "    <tr>\n",
       "      <th>0</th>\n",
       "      <td>Barking and Dagenham</td>\n",
       "      <td>Town Hall, 1 Town Square</td>\n",
       "      <td>13.93</td>\n",
       "      <td>194352.0</td>\n",
       "      <td>51.5607</td>\n",
       "      <td>0.1557</td>\n",
       "      <td>2.0</td>\n",
       "    </tr>\n",
       "    <tr>\n",
       "      <th>1</th>\n",
       "      <td>Barnet</td>\n",
       "      <td>North London Business Park, Oakleigh Road South</td>\n",
       "      <td>33.49</td>\n",
       "      <td>369088.0</td>\n",
       "      <td>51.6252</td>\n",
       "      <td>-0.1517</td>\n",
       "      <td>3.0</td>\n",
       "    </tr>\n",
       "    <tr>\n",
       "      <th>2</th>\n",
       "      <td>Bexley</td>\n",
       "      <td>Civic Offices, 2 Watling Street</td>\n",
       "      <td>23.38</td>\n",
       "      <td>236687.0</td>\n",
       "      <td>51.4549</td>\n",
       "      <td>0.1505</td>\n",
       "      <td>1.0</td>\n",
       "    </tr>\n",
       "    <tr>\n",
       "      <th>3</th>\n",
       "      <td>Brent</td>\n",
       "      <td>Brent Civic Centre, Engineers Way</td>\n",
       "      <td>16.70</td>\n",
       "      <td>317264.0</td>\n",
       "      <td>51.5588</td>\n",
       "      <td>-0.2817</td>\n",
       "      <td>2.0</td>\n",
       "    </tr>\n",
       "    <tr>\n",
       "      <th>4</th>\n",
       "      <td>Bromley</td>\n",
       "      <td>Civic Centre, Stockwell Close</td>\n",
       "      <td>57.97</td>\n",
       "      <td>317899.0</td>\n",
       "      <td>51.4039</td>\n",
       "      <td>0.0198</td>\n",
       "      <td>7.0</td>\n",
       "    </tr>\n",
       "  </tbody>\n",
       "</table>\n",
       "</div>"
      ],
      "text/plain": [
       "                Borough                                     Headquarters  \\\n",
       "0  Barking and Dagenham                         Town Hall, 1 Town Square   \n",
       "1                Barnet  North London Business Park, Oakleigh Road South   \n",
       "2                Bexley                  Civic Offices, 2 Watling Street   \n",
       "3                 Brent                Brent Civic Centre, Engineers Way   \n",
       "4               Bromley                    Civic Centre, Stockwell Close   \n",
       "\n",
       "    Area  Population  Latitude  Longitude  Parks  \n",
       "0  13.93    194352.0   51.5607     0.1557    2.0  \n",
       "1  33.49    369088.0   51.6252    -0.1517    3.0  \n",
       "2  23.38    236687.0   51.4549     0.1505    1.0  \n",
       "3  16.70    317264.0   51.5588    -0.2817    2.0  \n",
       "4  57.97    317899.0   51.4039     0.0198    7.0  "
      ]
     },
     "execution_count": 7,
     "metadata": {},
     "output_type": "execute_result"
    }
   ],
   "source": [
    "category = '4bf58dd8d48988d163941735' #this is a park category\n",
    "for index, row in London.iterrows():\n",
    "    lat = London.loc[index, 'Latitude']\n",
    "    lng = London.loc[index, 'Longitude']\n",
    "    London.loc[index,'Parks'] = NumberofVenues(lat,lng,category)\n",
    "London.head()"
   ]
  },
  {
   "cell_type": "markdown",
   "metadata": {},
   "source": [
    "Now having the coordinates and numbers of parks using the Foursquare, I can add up available public statistical data to complement my choice. In the project statement I mentioned that apart presence of parks to walk with my family, I highlighted important economic parameters as availability of accessible housing (number of 2 bed apartment considering familty with 1-2 children and average price of rent per borough), traffic intensity, pollution (as I could not find exact air pollution stats per borough, I will use carbon emission per borough as an estimate) and crime rate (number of offences) and number of all schools.\n",
    "\n",
    "All the data was public available at London Datastore https://data.london.gov.uk/ and the rent price from statista.com for July 2018. As number of boroughs is not that large, I found it easier to dowload and compile the data in csv format without a need to run it through a code. Let's access to this csv and append the existing London dataframe with additional data. Using IBM internal command, I add csv to the notebook and import it as dataframe"
   ]
  },
  {
   "cell_type": "code",
   "execution_count": 8,
   "metadata": {},
   "outputs": [
    {
     "data": {
      "text/plain": [
       "Borough          object\n",
       "Headquarters     object\n",
       "Area             object\n",
       "Population      float64\n",
       "Latitude        float64\n",
       "Longitude       float64\n",
       "Parks           float64\n",
       "Offences        float64\n",
       "Apartments      float64\n",
       "Emissions       float64\n",
       "Traffic         float64\n",
       "Rent            float64\n",
       "Schools         float64\n",
       "dtype: object"
      ]
     },
     "execution_count": 8,
     "metadata": {},
     "output_type": "execute_result"
    }
   ],
   "source": [
    "df_data_1 = pd.read_csv('Londondata.csv')\n",
    "London['Offences'] = df_data_1['Offences'].astype(float)\n",
    "London['Apartments'] = df_data_1['Apartments'].astype(float)\n",
    "London['Emissions'] = df_data_1['Emissions'].astype(float)\n",
    "London['Traffic'] = df_data_1['Traffic'].astype(float)\n",
    "London['Rent'] = df_data_1['Rent'].astype(float)\n",
    "London['Schools'] = df_data_1['Schools'].astype(float)\n",
    "London.dtypes"
   ]
  },
  {
   "cell_type": "code",
   "execution_count": 9,
   "metadata": {},
   "outputs": [
    {
     "data": {
      "text/html": [
       "<div>\n",
       "<style scoped>\n",
       "    .dataframe tbody tr th:only-of-type {\n",
       "        vertical-align: middle;\n",
       "    }\n",
       "\n",
       "    .dataframe tbody tr th {\n",
       "        vertical-align: top;\n",
       "    }\n",
       "\n",
       "    .dataframe thead th {\n",
       "        text-align: right;\n",
       "    }\n",
       "</style>\n",
       "<table border=\"1\" class=\"dataframe\">\n",
       "  <thead>\n",
       "    <tr style=\"text-align: right;\">\n",
       "      <th></th>\n",
       "      <th>Borough</th>\n",
       "      <th>Headquarters</th>\n",
       "      <th>Area</th>\n",
       "      <th>Population</th>\n",
       "      <th>Latitude</th>\n",
       "      <th>Longitude</th>\n",
       "      <th>Parks</th>\n",
       "      <th>Offences</th>\n",
       "      <th>Apartments</th>\n",
       "      <th>Emissions</th>\n",
       "      <th>Traffic</th>\n",
       "      <th>Rent</th>\n",
       "      <th>Schools</th>\n",
       "    </tr>\n",
       "  </thead>\n",
       "  <tbody>\n",
       "    <tr>\n",
       "      <th>0</th>\n",
       "      <td>Barking and Dagenham</td>\n",
       "      <td>Town Hall, 1 Town Square</td>\n",
       "      <td>13.93</td>\n",
       "      <td>194352.0</td>\n",
       "      <td>51.5607</td>\n",
       "      <td>0.1557</td>\n",
       "      <td>2.0</td>\n",
       "      <td>14638.0</td>\n",
       "      <td>27710.0</td>\n",
       "      <td>644.0</td>\n",
       "      <td>599.0</td>\n",
       "      <td>1209.0</td>\n",
       "      <td>64.0</td>\n",
       "    </tr>\n",
       "    <tr>\n",
       "      <th>1</th>\n",
       "      <td>Barnet</td>\n",
       "      <td>North London Business Park, Oakleigh Road South</td>\n",
       "      <td>33.49</td>\n",
       "      <td>369088.0</td>\n",
       "      <td>51.6252</td>\n",
       "      <td>-0.1517</td>\n",
       "      <td>3.0</td>\n",
       "      <td>21549.0</td>\n",
       "      <td>42260.0</td>\n",
       "      <td>1415.0</td>\n",
       "      <td>1657.0</td>\n",
       "      <td>1528.0</td>\n",
       "      <td>163.0</td>\n",
       "    </tr>\n",
       "    <tr>\n",
       "      <th>2</th>\n",
       "      <td>Bexley</td>\n",
       "      <td>Civic Offices, 2 Watling Street</td>\n",
       "      <td>23.38</td>\n",
       "      <td>236687.0</td>\n",
       "      <td>51.4549</td>\n",
       "      <td>0.1505</td>\n",
       "      <td>1.0</td>\n",
       "      <td>11163.0</td>\n",
       "      <td>26710.0</td>\n",
       "      <td>975.0</td>\n",
       "      <td>917.0</td>\n",
       "      <td>1282.0</td>\n",
       "      <td>84.0</td>\n",
       "    </tr>\n",
       "    <tr>\n",
       "      <th>3</th>\n",
       "      <td>Brent</td>\n",
       "      <td>Brent Civic Centre, Engineers Way</td>\n",
       "      <td>16.70</td>\n",
       "      <td>317264.0</td>\n",
       "      <td>51.5588</td>\n",
       "      <td>-0.2817</td>\n",
       "      <td>2.0</td>\n",
       "      <td>23237.0</td>\n",
       "      <td>33750.0</td>\n",
       "      <td>1175.0</td>\n",
       "      <td>854.0</td>\n",
       "      <td>1548.0</td>\n",
       "      <td>103.0</td>\n",
       "    </tr>\n",
       "    <tr>\n",
       "      <th>4</th>\n",
       "      <td>Bromley</td>\n",
       "      <td>Civic Centre, Stockwell Close</td>\n",
       "      <td>57.97</td>\n",
       "      <td>317899.0</td>\n",
       "      <td>51.4039</td>\n",
       "      <td>0.0198</td>\n",
       "      <td>7.0</td>\n",
       "      <td>17243.0</td>\n",
       "      <td>37830.0</td>\n",
       "      <td>1180.0</td>\n",
       "      <td>1217.0</td>\n",
       "      <td>1345.0</td>\n",
       "      <td>121.0</td>\n",
       "    </tr>\n",
       "  </tbody>\n",
       "</table>\n",
       "</div>"
      ],
      "text/plain": [
       "                Borough                                     Headquarters  \\\n",
       "0  Barking and Dagenham                         Town Hall, 1 Town Square   \n",
       "1                Barnet  North London Business Park, Oakleigh Road South   \n",
       "2                Bexley                  Civic Offices, 2 Watling Street   \n",
       "3                 Brent                Brent Civic Centre, Engineers Way   \n",
       "4               Bromley                    Civic Centre, Stockwell Close   \n",
       "\n",
       "    Area  Population  Latitude  Longitude  Parks  Offences  Apartments  \\\n",
       "0  13.93    194352.0   51.5607     0.1557    2.0   14638.0     27710.0   \n",
       "1  33.49    369088.0   51.6252    -0.1517    3.0   21549.0     42260.0   \n",
       "2  23.38    236687.0   51.4549     0.1505    1.0   11163.0     26710.0   \n",
       "3  16.70    317264.0   51.5588    -0.2817    2.0   23237.0     33750.0   \n",
       "4  57.97    317899.0   51.4039     0.0198    7.0   17243.0     37830.0   \n",
       "\n",
       "   Emissions  Traffic    Rent  Schools  \n",
       "0      644.0    599.0  1209.0     64.0  \n",
       "1     1415.0   1657.0  1528.0    163.0  \n",
       "2      975.0    917.0  1282.0     84.0  \n",
       "3     1175.0    854.0  1548.0    103.0  \n",
       "4     1180.0   1217.0  1345.0    121.0  "
      ]
     },
     "execution_count": 9,
     "metadata": {},
     "output_type": "execute_result"
    }
   ],
   "source": [
    "London.head()"
   ]
  },
  {
   "cell_type": "markdown",
   "metadata": {},
   "source": [
    "Second part is visualization of the data and analysis"
   ]
  },
  {
   "cell_type": "code",
   "execution_count": 10,
   "metadata": {},
   "outputs": [],
   "source": [
    "import folium\n",
    "london_map = folium.Map(location=[51.50853, -0.12574], zoom_start=8, tiles='Mapbox Bright')"
   ]
  },
  {
   "cell_type": "code",
   "execution_count": 10,
   "metadata": {},
   "outputs": [],
   "source": []
  },
  {
   "cell_type": "markdown",
   "metadata": {},
   "source": [
    "Next step is to create a borough marks on the map"
   ]
  },
  {
   "cell_type": "code",
   "execution_count": 21,
   "metadata": {},
   "outputs": [
    {
     "data": {
      "text/html": [
       "<div style=\"width:100%;\"><div style=\"position:relative;width:100%;height:0;padding-bottom:60%;\"><iframe src=\"data:text/html;charset=utf-8;base64,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\" style=\"position:absolute;width:100%;height:100%;left:0;top:0;border:none !important;\" allowfullscreen webkitallowfullscreen mozallowfullscreen></iframe></div></div>"
      ],
      "text/plain": [
       "<folium.folium.Map at 0x7ff1a2474fd0>"
      ]
     },
     "execution_count": 21,
     "metadata": {},
     "output_type": "execute_result"
    }
   ],
   "source": [
    "address = 'London'\n",
    "\n",
    "geolocator = Nominatim(user_agent=\"ny_explorer\")\n",
    "location = geolocator.geocode(address)\n",
    "latitude = location.latitude\n",
    "longitude = location.longitude\n",
    "\n",
    "map_london = folium.Map(location=[latitude, longitude], zoom_start=10, height = '70%', width = '70%')\n",
    "\n",
    "# add markers to map\n",
    "for lat, lng, borough in zip(London['Latitude'], London['Longitude'], London['Borough']):\n",
    "    label = '{}'.format(borough)\n",
    "    label = folium.Popup(label, parse_html=True)\n",
    "    folium.CircleMarker(\n",
    "        [lat, lng],\n",
    "        radius=5,\n",
    "        popup=label,\n",
    "        color='blue',\n",
    "        fill=True,\n",
    "        fill_color='#3186cc',\n",
    "        fill_opacity=0.7,\n",
    "        parse_html=False).add_to(map_london)  \n",
    "\n",
    "map_london"
   ]
  },
  {
   "cell_type": "markdown",
   "metadata": {},
   "source": [
    "The main study question is how friendly is the borough for the family with a kid moving to London. We have a number of various parameters set up in the dataframe. The suggested methodology is to assign a score to each borough taking into consideration the average of all parameters. Let's consider each paratemer is equally weighted, so score would be the following:\n",
    "\n",
    "Family friendliness = Schools + Parks + Apartments - Emissions - Traffic - Offences - Rent\n",
    "\n",
    "Considering all paratemers are equally important, and taking into consideration the great span of data, we will normalize the all values."
   ]
  },
  {
   "cell_type": "code",
   "execution_count": 49,
   "metadata": {},
   "outputs": [
    {
     "data": {
      "text/plain": [
       "Index(['Parks', 'Offences', 'Apartments', 'Emissions', 'Traffic', 'Rent',\n",
       "       'Schools'],\n",
       "      dtype='object')"
      ]
     },
     "execution_count": 49,
     "metadata": {},
     "output_type": "execute_result"
    }
   ],
   "source": [
    "London.columns[6:13]"
   ]
  },
  {
   "cell_type": "code",
   "execution_count": 12,
   "metadata": {},
   "outputs": [
    {
     "data": {
      "text/html": [
       "<div>\n",
       "<style scoped>\n",
       "    .dataframe tbody tr th:only-of-type {\n",
       "        vertical-align: middle;\n",
       "    }\n",
       "\n",
       "    .dataframe tbody tr th {\n",
       "        vertical-align: top;\n",
       "    }\n",
       "\n",
       "    .dataframe thead th {\n",
       "        text-align: right;\n",
       "    }\n",
       "</style>\n",
       "<table border=\"1\" class=\"dataframe\">\n",
       "  <thead>\n",
       "    <tr style=\"text-align: right;\">\n",
       "      <th></th>\n",
       "      <th>Parks</th>\n",
       "      <th>Offences</th>\n",
       "      <th>Apartments</th>\n",
       "      <th>Emissions</th>\n",
       "      <th>Traffic</th>\n",
       "      <th>Rent</th>\n",
       "      <th>Schools</th>\n",
       "      <th>Borough</th>\n",
       "    </tr>\n",
       "  </thead>\n",
       "  <tbody>\n",
       "    <tr>\n",
       "      <th>0</th>\n",
       "      <td>0.033333</td>\n",
       "      <td>0.175174</td>\n",
       "      <td>0.311592</td>\n",
       "      <td>0.000000</td>\n",
       "      <td>0.119653</td>\n",
       "      <td>0.106591</td>\n",
       "      <td>0.000000</td>\n",
       "      <td>Barking and Dagenham</td>\n",
       "    </tr>\n",
       "    <tr>\n",
       "      <th>1</th>\n",
       "      <td>0.066667</td>\n",
       "      <td>0.380401</td>\n",
       "      <td>0.781401</td>\n",
       "      <td>0.414962</td>\n",
       "      <td>0.731214</td>\n",
       "      <td>0.366151</td>\n",
       "      <td>1.000000</td>\n",
       "      <td>Barnet</td>\n",
       "    </tr>\n",
       "    <tr>\n",
       "      <th>2</th>\n",
       "      <td>0.000000</td>\n",
       "      <td>0.071982</td>\n",
       "      <td>0.279303</td>\n",
       "      <td>0.178149</td>\n",
       "      <td>0.303468</td>\n",
       "      <td>0.165989</td>\n",
       "      <td>0.202020</td>\n",
       "      <td>Bexley</td>\n",
       "    </tr>\n",
       "    <tr>\n",
       "      <th>3</th>\n",
       "      <td>0.033333</td>\n",
       "      <td>0.430527</td>\n",
       "      <td>0.506619</td>\n",
       "      <td>0.285791</td>\n",
       "      <td>0.267052</td>\n",
       "      <td>0.382425</td>\n",
       "      <td>0.393939</td>\n",
       "      <td>Brent</td>\n",
       "    </tr>\n",
       "    <tr>\n",
       "      <th>4</th>\n",
       "      <td>0.200000</td>\n",
       "      <td>0.252532</td>\n",
       "      <td>0.638360</td>\n",
       "      <td>0.288482</td>\n",
       "      <td>0.476879</td>\n",
       "      <td>0.217250</td>\n",
       "      <td>0.575758</td>\n",
       "      <td>Bromley</td>\n",
       "    </tr>\n",
       "  </tbody>\n",
       "</table>\n",
       "</div>"
      ],
      "text/plain": [
       "      Parks  Offences  Apartments  Emissions   Traffic      Rent   Schools  \\\n",
       "0  0.033333  0.175174    0.311592   0.000000  0.119653  0.106591  0.000000   \n",
       "1  0.066667  0.380401    0.781401   0.414962  0.731214  0.366151  1.000000   \n",
       "2  0.000000  0.071982    0.279303   0.178149  0.303468  0.165989  0.202020   \n",
       "3  0.033333  0.430527    0.506619   0.285791  0.267052  0.382425  0.393939   \n",
       "4  0.200000  0.252532    0.638360   0.288482  0.476879  0.217250  0.575758   \n",
       "\n",
       "                Borough  \n",
       "0  Barking and Dagenham  \n",
       "1                Barnet  \n",
       "2                Bexley  \n",
       "3                 Brent  \n",
       "4               Bromley  "
      ]
     },
     "execution_count": 12,
     "metadata": {},
     "output_type": "execute_result"
    }
   ],
   "source": [
    "from sklearn import preprocessing\n",
    "\n",
    "min_max_scaler = preprocessing.MinMaxScaler()\n",
    "np_scaled = min_max_scaler.fit_transform(London.loc[:,'Parks':'Schools'])\n",
    "London_norm = pd.DataFrame(np_scaled)\n",
    "London_norm['Borough'] = London['Borough']\n",
    "London_norm.columns = ['Parks', 'Offences', 'Apartments', 'Emissions', 'Traffic', 'Rent', 'Schools','Borough']\n",
    "London_norm.head()"
   ]
  },
  {
   "cell_type": "code",
   "execution_count": 13,
   "metadata": {},
   "outputs": [],
   "source": [
    "London_norm['Score'] = London_norm['Parks']-London_norm['Offences']+London_norm['Apartments']-London_norm['Emissions']-London_norm['Traffic']-London_norm['Rent']+London_norm['Schools']"
   ]
  },
  {
   "cell_type": "code",
   "execution_count": 14,
   "metadata": {},
   "outputs": [
    {
     "data": {
      "text/html": [
       "<div>\n",
       "<style scoped>\n",
       "    .dataframe tbody tr th:only-of-type {\n",
       "        vertical-align: middle;\n",
       "    }\n",
       "\n",
       "    .dataframe tbody tr th {\n",
       "        vertical-align: top;\n",
       "    }\n",
       "\n",
       "    .dataframe thead th {\n",
       "        text-align: right;\n",
       "    }\n",
       "</style>\n",
       "<table border=\"1\" class=\"dataframe\">\n",
       "  <thead>\n",
       "    <tr style=\"text-align: right;\">\n",
       "      <th></th>\n",
       "      <th>Parks</th>\n",
       "      <th>Offences</th>\n",
       "      <th>Apartments</th>\n",
       "      <th>Emissions</th>\n",
       "      <th>Traffic</th>\n",
       "      <th>Rent</th>\n",
       "      <th>Schools</th>\n",
       "      <th>Borough</th>\n",
       "      <th>Score</th>\n",
       "    </tr>\n",
       "  </thead>\n",
       "  <tbody>\n",
       "    <tr>\n",
       "      <th>0</th>\n",
       "      <td>0.033333</td>\n",
       "      <td>0.175174</td>\n",
       "      <td>0.311592</td>\n",
       "      <td>0.000000</td>\n",
       "      <td>0.119653</td>\n",
       "      <td>0.106591</td>\n",
       "      <td>0.000000</td>\n",
       "      <td>Barking and Dagenham</td>\n",
       "      <td>-0.056493</td>\n",
       "    </tr>\n",
       "    <tr>\n",
       "      <th>1</th>\n",
       "      <td>0.066667</td>\n",
       "      <td>0.380401</td>\n",
       "      <td>0.781401</td>\n",
       "      <td>0.414962</td>\n",
       "      <td>0.731214</td>\n",
       "      <td>0.366151</td>\n",
       "      <td>1.000000</td>\n",
       "      <td>Barnet</td>\n",
       "      <td>-0.044660</td>\n",
       "    </tr>\n",
       "    <tr>\n",
       "      <th>2</th>\n",
       "      <td>0.000000</td>\n",
       "      <td>0.071982</td>\n",
       "      <td>0.279303</td>\n",
       "      <td>0.178149</td>\n",
       "      <td>0.303468</td>\n",
       "      <td>0.165989</td>\n",
       "      <td>0.202020</td>\n",
       "      <td>Bexley</td>\n",
       "      <td>-0.238265</td>\n",
       "    </tr>\n",
       "    <tr>\n",
       "      <th>3</th>\n",
       "      <td>0.033333</td>\n",
       "      <td>0.430527</td>\n",
       "      <td>0.506619</td>\n",
       "      <td>0.285791</td>\n",
       "      <td>0.267052</td>\n",
       "      <td>0.382425</td>\n",
       "      <td>0.393939</td>\n",
       "      <td>Brent</td>\n",
       "      <td>-0.431903</td>\n",
       "    </tr>\n",
       "    <tr>\n",
       "      <th>4</th>\n",
       "      <td>0.200000</td>\n",
       "      <td>0.252532</td>\n",
       "      <td>0.638360</td>\n",
       "      <td>0.288482</td>\n",
       "      <td>0.476879</td>\n",
       "      <td>0.217250</td>\n",
       "      <td>0.575758</td>\n",
       "      <td>Bromley</td>\n",
       "      <td>0.178975</td>\n",
       "    </tr>\n",
       "  </tbody>\n",
       "</table>\n",
       "</div>"
      ],
      "text/plain": [
       "      Parks  Offences  Apartments  Emissions   Traffic      Rent   Schools  \\\n",
       "0  0.033333  0.175174    0.311592   0.000000  0.119653  0.106591  0.000000   \n",
       "1  0.066667  0.380401    0.781401   0.414962  0.731214  0.366151  1.000000   \n",
       "2  0.000000  0.071982    0.279303   0.178149  0.303468  0.165989  0.202020   \n",
       "3  0.033333  0.430527    0.506619   0.285791  0.267052  0.382425  0.393939   \n",
       "4  0.200000  0.252532    0.638360   0.288482  0.476879  0.217250  0.575758   \n",
       "\n",
       "                Borough     Score  \n",
       "0  Barking and Dagenham -0.056493  \n",
       "1                Barnet -0.044660  \n",
       "2                Bexley -0.238265  \n",
       "3                 Brent -0.431903  \n",
       "4               Bromley  0.178975  "
      ]
     },
     "execution_count": 14,
     "metadata": {},
     "output_type": "execute_result"
    }
   ],
   "source": [
    "London_norm.head()"
   ]
  },
  {
   "cell_type": "code",
   "execution_count": 15,
   "metadata": {},
   "outputs": [
    {
     "data": {
      "text/html": [
       "<div>\n",
       "<style scoped>\n",
       "    .dataframe tbody tr th:only-of-type {\n",
       "        vertical-align: middle;\n",
       "    }\n",
       "\n",
       "    .dataframe tbody tr th {\n",
       "        vertical-align: top;\n",
       "    }\n",
       "\n",
       "    .dataframe thead th {\n",
       "        text-align: right;\n",
       "    }\n",
       "</style>\n",
       "<table border=\"1\" class=\"dataframe\">\n",
       "  <thead>\n",
       "    <tr style=\"text-align: right;\">\n",
       "      <th></th>\n",
       "      <th>Borough</th>\n",
       "      <th>Headquarters</th>\n",
       "      <th>Area</th>\n",
       "      <th>Population</th>\n",
       "      <th>Latitude</th>\n",
       "      <th>Longitude</th>\n",
       "      <th>Parks</th>\n",
       "      <th>Offences</th>\n",
       "      <th>Apartments</th>\n",
       "      <th>Emissions</th>\n",
       "      <th>Traffic</th>\n",
       "      <th>Rent</th>\n",
       "      <th>Schools</th>\n",
       "      <th>Score</th>\n",
       "    </tr>\n",
       "  </thead>\n",
       "  <tbody>\n",
       "    <tr>\n",
       "      <th>0</th>\n",
       "      <td>Barking and Dagenham</td>\n",
       "      <td>Town Hall, 1 Town Square</td>\n",
       "      <td>13.93</td>\n",
       "      <td>194352.0</td>\n",
       "      <td>51.5607</td>\n",
       "      <td>0.1557</td>\n",
       "      <td>2.0</td>\n",
       "      <td>14638.0</td>\n",
       "      <td>27710.0</td>\n",
       "      <td>644.0</td>\n",
       "      <td>599.0</td>\n",
       "      <td>1209.0</td>\n",
       "      <td>64.0</td>\n",
       "      <td>-0.056493</td>\n",
       "    </tr>\n",
       "    <tr>\n",
       "      <th>1</th>\n",
       "      <td>Barnet</td>\n",
       "      <td>North London Business Park, Oakleigh Road South</td>\n",
       "      <td>33.49</td>\n",
       "      <td>369088.0</td>\n",
       "      <td>51.6252</td>\n",
       "      <td>-0.1517</td>\n",
       "      <td>3.0</td>\n",
       "      <td>21549.0</td>\n",
       "      <td>42260.0</td>\n",
       "      <td>1415.0</td>\n",
       "      <td>1657.0</td>\n",
       "      <td>1528.0</td>\n",
       "      <td>163.0</td>\n",
       "      <td>-0.044660</td>\n",
       "    </tr>\n",
       "    <tr>\n",
       "      <th>2</th>\n",
       "      <td>Bexley</td>\n",
       "      <td>Civic Offices, 2 Watling Street</td>\n",
       "      <td>23.38</td>\n",
       "      <td>236687.0</td>\n",
       "      <td>51.4549</td>\n",
       "      <td>0.1505</td>\n",
       "      <td>1.0</td>\n",
       "      <td>11163.0</td>\n",
       "      <td>26710.0</td>\n",
       "      <td>975.0</td>\n",
       "      <td>917.0</td>\n",
       "      <td>1282.0</td>\n",
       "      <td>84.0</td>\n",
       "      <td>-0.238265</td>\n",
       "    </tr>\n",
       "    <tr>\n",
       "      <th>3</th>\n",
       "      <td>Brent</td>\n",
       "      <td>Brent Civic Centre, Engineers Way</td>\n",
       "      <td>16.70</td>\n",
       "      <td>317264.0</td>\n",
       "      <td>51.5588</td>\n",
       "      <td>-0.2817</td>\n",
       "      <td>2.0</td>\n",
       "      <td>23237.0</td>\n",
       "      <td>33750.0</td>\n",
       "      <td>1175.0</td>\n",
       "      <td>854.0</td>\n",
       "      <td>1548.0</td>\n",
       "      <td>103.0</td>\n",
       "      <td>-0.431903</td>\n",
       "    </tr>\n",
       "    <tr>\n",
       "      <th>4</th>\n",
       "      <td>Bromley</td>\n",
       "      <td>Civic Centre, Stockwell Close</td>\n",
       "      <td>57.97</td>\n",
       "      <td>317899.0</td>\n",
       "      <td>51.4039</td>\n",
       "      <td>0.0198</td>\n",
       "      <td>7.0</td>\n",
       "      <td>17243.0</td>\n",
       "      <td>37830.0</td>\n",
       "      <td>1180.0</td>\n",
       "      <td>1217.0</td>\n",
       "      <td>1345.0</td>\n",
       "      <td>121.0</td>\n",
       "      <td>0.178975</td>\n",
       "    </tr>\n",
       "  </tbody>\n",
       "</table>\n",
       "</div>"
      ],
      "text/plain": [
       "                Borough                                     Headquarters  \\\n",
       "0  Barking and Dagenham                         Town Hall, 1 Town Square   \n",
       "1                Barnet  North London Business Park, Oakleigh Road South   \n",
       "2                Bexley                  Civic Offices, 2 Watling Street   \n",
       "3                 Brent                Brent Civic Centre, Engineers Way   \n",
       "4               Bromley                    Civic Centre, Stockwell Close   \n",
       "\n",
       "    Area  Population  Latitude  Longitude  Parks  Offences  Apartments  \\\n",
       "0  13.93    194352.0   51.5607     0.1557    2.0   14638.0     27710.0   \n",
       "1  33.49    369088.0   51.6252    -0.1517    3.0   21549.0     42260.0   \n",
       "2  23.38    236687.0   51.4549     0.1505    1.0   11163.0     26710.0   \n",
       "3  16.70    317264.0   51.5588    -0.2817    2.0   23237.0     33750.0   \n",
       "4  57.97    317899.0   51.4039     0.0198    7.0   17243.0     37830.0   \n",
       "\n",
       "   Emissions  Traffic    Rent  Schools     Score  \n",
       "0      644.0    599.0  1209.0     64.0 -0.056493  \n",
       "1     1415.0   1657.0  1528.0    163.0 -0.044660  \n",
       "2      975.0    917.0  1282.0     84.0 -0.238265  \n",
       "3     1175.0    854.0  1548.0    103.0 -0.431903  \n",
       "4     1180.0   1217.0  1345.0    121.0  0.178975  "
      ]
     },
     "execution_count": 15,
     "metadata": {},
     "output_type": "execute_result"
    }
   ],
   "source": [
    "London2 = London\n",
    "London2['Score'] = London_norm['Score']\n",
    "London2.head()"
   ]
  },
  {
   "cell_type": "code",
   "execution_count": 16,
   "metadata": {},
   "outputs": [
    {
     "data": {
      "image/png": "[encoded data removed]",
      "text/plain": [
       "<Figure size 432x288 with 1 Axes>"
      ]
     },
     "metadata": {
      "needs_background": "light"
     },
     "output_type": "display_data"
    },
    {
     "data": {
      "text/plain": [
       "<Figure size 7200x3600 with 0 Axes>"
      ]
     },
     "metadata": {},
     "output_type": "display_data"
    }
   ],
   "source": [
    "Londongraph = London2.sort_values(['Score'], axis=0, ascending=False).head(10)\n",
    "result = Londongraph['Score']\n",
    "label = Londongraph['Borough']\n",
    "index = np.arange(len(label))\n",
    "plt.bar(index, result)\n",
    "plt.xlabel('Borough', fontsize=10)\n",
    "plt.ylabel('Score', fontsize=5)\n",
    "plt.xticks(index, label, fontsize=10, rotation=90)\n",
    "plt.title('Borough score for friendliness for immigrating family')\n",
    "plt.figure(figsize=(100,50))\n",
    "plt.show()"
   ]
  },
  {
   "cell_type": "markdown",
   "metadata": {},
   "source": [
    "We can see that in general Wandsworth is an absolute winner. Following top 10 best candidate are provided."
   ]
  },
  {
   "cell_type": "code",
   "execution_count": 17,
   "metadata": {},
   "outputs": [
    {
     "data": {
      "image/png": "[encoded data removed]",
      "text/plain": [
       "<Figure size 432x288 with 1 Axes>"
      ]
     },
     "metadata": {
      "needs_background": "light"
     },
     "output_type": "display_data"
    },
    {
     "data": {
      "text/plain": [
       "<Figure size 7200x3600 with 0 Axes>"
      ]
     },
     "metadata": {},
     "output_type": "display_data"
    }
   ],
   "source": [
    "Londongraph2 = London2.sort_values(['Score'], axis=0, ascending=True).head(10)\n",
    "result = Londongraph2['Score']\n",
    "label = Londongraph2['Borough']\n",
    "index = np.arange(len(label))\n",
    "plt.bar(index, result)\n",
    "plt.xlabel('Borough', fontsize=10)\n",
    "plt.ylabel('Score', fontsize=5)\n",
    "plt.xticks(index, label, fontsize=10, rotation=90)\n",
    "plt.title('Borough score for friendliness for immigrating family')\n",
    "plt.figure(figsize=(100,50))\n",
    "plt.show()"
   ]
  },
  {
   "cell_type": "markdown",
   "metadata": {},
   "source": [
    "The worst with the lowest score is Westminster"
   ]
  },
  {
   "cell_type": "code",
   "execution_count": 20,
   "metadata": {},
   "outputs": [],
   "source": [
    "London2.to_csv('London2.csv')"
   ]
  },
  {
   "cell_type": "code",
   "execution_count": null,
   "metadata": {},
   "outputs": [],
   "source": []
  }
 ],
 "metadata": {
  "kernelspec": {
   "display_name": "Python 3",
   "language": "python",
   "name": "python3"
  },
  "language_info": {
   "codemirror_mode": {
    "name": "ipython",
    "version": 3
   },
   "file_extension": ".py",
   "mimetype": "text/x-python",
   "name": "python",
   "nbconvert_exporter": "python",
   "pygments_lexer": "ipython3",
   "version": "3.6.8"
  }
 },
 "nbformat": 4,
 "nbformat_minor": 2
}
